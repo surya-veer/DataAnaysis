{
 "cells": [
  {
   "cell_type": "markdown",
   "metadata": {},
   "source": [
    "# Rolling Apply in pandas"
   ]
  },
  {
   "cell_type": "markdown",
   "metadata": {},
   "source": [
    "This is the method by which you can apply own function to the dataset(any column) for a given window.<br>\n",
    "<b>Syntax</b><br>\n",
    "#### df = df.rolling_apply(df,window='  ',function_name)"
   ]
  },
  {
   "cell_type": "code",
   "execution_count": 19,
   "metadata": {},
   "outputs": [],
   "source": [
    "import pandas as pd\n",
    "import numpy as np\n",
    "import pickle\n",
    "import matplotlib.pyplot as plt\n",
    "from matplotlib import style\n",
    "from statistics import mean\n",
    "style.use(\"fivethirtyeight\")"
   ]
  },
  {
   "cell_type": "code",
   "execution_count": 20,
   "metadata": {},
   "outputs": [],
   "source": [
    "def moving_average(values):\n",
    "    return mean(values)"
   ]
  },
  {
   "cell_type": "code",
   "execution_count": 32,
   "metadata": {},
   "outputs": [],
   "source": [
    "df = pd.read_pickle('fiddy_states_data.pickle')\n",
    "df['mean_TX'] = pd.Series(df['AK']).rolling(10).apply(moving_average)\n",
    "df = df.dropna()"
   ]
  },
  {
   "cell_type": "code",
   "execution_count": 33,
   "metadata": {},
   "outputs": [
    {
     "name": "stdout",
     "output_type": "stream",
     "text": [
      "                    TX     mean_TX\n",
      "Date                              \n",
      "1975-10-31   34.060297   37.038409\n",
      "1975-11-30   34.288083   37.576682\n",
      "1975-12-31   34.499877   38.093260\n",
      "1976-01-31   34.634899   38.580198\n",
      "1976-02-29   34.947815   39.032209\n",
      "1976-03-31   35.689406   39.443037\n",
      "1976-04-30   36.723111   39.807350\n",
      "1976-05-31   37.024848   40.124210\n",
      "1976-06-30   36.610633   40.398111\n",
      "1976-07-31   36.402203   40.634244\n",
      "1976-08-31   36.391075   40.836646\n",
      "1976-09-30   36.491320   41.017868\n",
      "1976-10-31   36.721670   41.197505\n",
      "1976-11-30   37.031876   41.391754\n",
      "1976-12-31   37.245885   41.609721\n",
      "1977-01-31   37.413149   41.853754\n",
      "1977-02-28   37.842142   42.121231\n",
      "1977-03-31   38.894965   42.406227\n",
      "1977-04-30   40.557255   42.703500\n",
      "1977-05-31   40.837734   43.013457\n",
      "1977-06-30   39.851628   43.338934\n",
      "1977-07-31   39.601582   43.676056\n",
      "1977-08-31   39.818117   44.013339\n",
      "1977-09-30   40.132530   44.339644\n",
      "1977-10-31   40.701397   44.650002\n",
      "1977-11-30   41.509430   44.948937\n",
      "1977-12-31   42.175132   45.248141\n",
      "1978-01-31   42.604946   45.559980\n",
      "1978-02-28   43.070754   45.895610\n",
      "1978-03-31   43.885673   46.264906\n",
      "...                ...         ...\n",
      "2015-04-30  161.985357  169.175197\n",
      "2015-05-31  163.669457  169.453660\n",
      "2015-06-30  165.364455  169.874778\n",
      "2015-07-31  166.534289  170.427573\n",
      "2015-08-31  166.677796  171.090602\n",
      "2015-09-30  166.780150  171.830493\n",
      "2015-10-31  167.252888  172.587857\n",
      "2015-11-30  167.475192  173.321075\n",
      "2015-12-31  167.499314  173.988549\n",
      "2016-01-31  168.154455  174.529741\n",
      "2016-02-29  169.811922  174.911064\n",
      "2016-03-31  171.549606  175.150963\n",
      "2016-04-30  173.275154  175.318007\n",
      "2016-05-31  175.340955  175.486771\n",
      "2016-06-30  176.908768  175.668413\n",
      "2016-07-31  177.896245  175.834557\n",
      "2016-08-31  178.754708  175.965656\n",
      "2016-09-30  179.300745  176.043441\n",
      "2016-10-31  179.363251  176.082484\n",
      "2016-11-30  179.140792  176.113146\n",
      "2016-12-31  179.151625  176.130145\n",
      "2017-01-31  180.213721  176.113088\n",
      "2017-02-28  182.033197  176.063296\n",
      "2017-03-31  184.142120  176.011600\n",
      "2017-04-30  186.988964  176.035374\n",
      "2017-05-31  189.348456  176.208210\n",
      "2017-06-30  190.328274  176.546110\n",
      "2017-07-31  190.705782  177.017877\n",
      "2017-08-31  190.722700  177.560731\n",
      "2017-09-30  190.485927  178.098663\n",
      "\n",
      "[504 rows x 2 columns]\n"
     ]
    }
   ],
   "source": [
    "print(df[['TX','mean_TX']])"
   ]
  },
  {
   "cell_type": "code",
   "execution_count": null,
   "metadata": {},
   "outputs": [],
   "source": []
  }
 ],
 "metadata": {
  "kernelspec": {
   "display_name": "Python 2",
   "language": "python",
   "name": "python2"
  },
  "language_info": {
   "codemirror_mode": {
    "name": "ipython",
    "version": 2
   },
   "file_extension": ".py",
   "mimetype": "text/x-python",
   "name": "python",
   "nbconvert_exporter": "python",
   "pygments_lexer": "ipython2",
   "version": "2.7.12"
  }
 },
 "nbformat": 4,
 "nbformat_minor": 2
}
