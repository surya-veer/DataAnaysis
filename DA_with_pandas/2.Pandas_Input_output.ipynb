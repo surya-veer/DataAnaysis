{
 "cells": [
  {
   "cell_type": "markdown",
   "metadata": {},
   "source": [
    "# Pandas Input and output (I/O) "
   ]
  },
  {
   "cell_type": "code",
   "execution_count": 11,
   "metadata": {},
   "outputs": [],
   "source": [
    "import pandas as pd"
   ]
  },
  {
   "cell_type": "code",
   "execution_count": 12,
   "metadata": {},
   "outputs": [
    {
     "name": "stdout",
     "output_type": "stream",
     "text": [
      "         Date   Value\n",
      "0  2017-09-30  1426.0\n",
      "1  2017-08-31  1433.0\n",
      "2  2017-07-31  1439.0\n",
      "3  2017-06-30  1443.0\n",
      "4  2017-05-31  1450.0\n"
     ]
    }
   ],
   "source": [
    "df = pd.read_csv(\"ZILLOW-Z77006_ZRIMFRR.csv\")  ##reading data from csv \n",
    "##more reading methods is on http://pandas.pydata.org/pandas-docs/version/0.20/io.html\n",
    "print(df.head())"
   ]
  },
  {
   "cell_type": "code",
   "execution_count": 13,
   "metadata": {},
   "outputs": [
    {
     "name": "stdout",
     "output_type": "stream",
     "text": [
      "             Value\n",
      "Date              \n",
      "2017-09-30  1426.0\n",
      "2017-08-31  1433.0\n",
      "2017-07-31  1439.0\n",
      "2017-06-30  1443.0\n",
      "2017-05-31  1450.0\n"
     ]
    }
   ],
   "source": [
    "df.set_index('Date',inplace = True)  ##setting date as index\n",
    "df.to_csv(\"NEW_ZILLOW-Z77006.csv\")  ##save again as csv\n",
    "print(df.head())"
   ]
  },
  {
   "cell_type": "code",
   "execution_count": 14,
   "metadata": {},
   "outputs": [
    {
     "name": "stdout",
     "output_type": "stream",
     "text": [
      "         Date   Value\n",
      "0  2017-09-30  1426.0\n",
      "1  2017-08-31  1433.0\n",
      "2  2017-07-31  1439.0\n",
      "3  2017-06-30  1443.0\n",
      "4  2017-05-31  1450.0\n"
     ]
    }
   ],
   "source": [
    "df = pd.read_csv(\"NEW_ZILLOW-Z77006.csv\")  #reading new file again\n",
    "print(df.head())"
   ]
  },
  {
   "cell_type": "markdown",
   "metadata": {},
   "source": [
    "#### as we can see output are same when we open csv after setting 'Date' ad index because csv don't have any attribute like index so it always gives default index as 0,1,2,3..... "
   ]
  },
  {
   "cell_type": "markdown",
   "metadata": {},
   "source": [
    "#### But we can specify index at the time of reading from csv using (index_col = column number/name)"
   ]
  },
  {
   "cell_type": "code",
   "execution_count": 16,
   "metadata": {},
   "outputs": [
    {
     "name": "stdout",
     "output_type": "stream",
     "text": [
      "             Value\n",
      "Date              \n",
      "2017-09-30  1426.0\n",
      "2017-08-31  1433.0\n",
      "2017-07-31  1439.0\n",
      "2017-06-30  1443.0\n",
      "2017-05-31  1450.0\n"
     ]
    }
   ],
   "source": [
    "df = pd.read_csv(\"NEW_ZILLOW-Z77006.csv\",index_col = 'Date')  #reading new file again\n",
    "print(df.head())"
   ]
  },
  {
   "cell_type": "markdown",
   "metadata": {},
   "source": [
    "### suppose we need to change colums name like from value to Indore_HPI then we use df.colums = ['name']\n",
    "## NOTE: index_value is not a column"
   ]
  },
  {
   "cell_type": "code",
   "execution_count": 17,
   "metadata": {},
   "outputs": [
    {
     "name": "stdout",
     "output_type": "stream",
     "text": [
      "            Indore_HPI\n",
      "Date                  \n",
      "2017-09-30      1426.0\n",
      "2017-08-31      1433.0\n",
      "2017-07-31      1439.0\n",
      "2017-06-30      1443.0\n",
      "2017-05-31      1450.0\n"
     ]
    }
   ],
   "source": [
    "df.columns  = ['Indore_HPI']\n",
    "print(df.head())"
   ]
  },
  {
   "cell_type": "code",
   "execution_count": 18,
   "metadata": {},
   "outputs": [],
   "source": [
    "df.to_csv(\"NEW_ZILLOW.csv\",header = False)   ##there will no header in scv file like date and Indore_HPI"
   ]
  },
  {
   "cell_type": "code",
   "execution_count": 21,
   "metadata": {},
   "outputs": [
    {
     "name": "stdout",
     "output_type": "stream",
     "text": [
      "            indore_HPI\n",
      "Date                  \n",
      "2017-09-30      1426.0\n",
      "2017-08-31      1433.0\n",
      "2017-07-31      1439.0\n",
      "2017-06-30      1443.0\n",
      "2017-05-31      1450.0\n"
     ]
    }
   ],
   "source": [
    "df = pd.read_csv(\"NEW_ZILLOW.csv\", names=['Date','indore_HPI'],index_col = 'Date')  \n",
    "##we can define colums name at the time of reading csv file by names=['name1','name2']\n",
    "print(df.head())"
   ]
  },
  {
   "cell_type": "code",
   "execution_count": 27,
   "metadata": {},
   "outputs": [
    {
     "name": "stdout",
     "output_type": "stream",
     "text": [
      "            INDORE_HPI\n",
      "Date                  \n",
      "2017-09-30      1426.0\n",
      "2017-08-31      1433.0\n",
      "2017-07-31      1439.0\n",
      "2017-06-30      1443.0\n",
      "2017-05-31      1450.0\n"
     ]
    }
   ],
   "source": [
    "df.rename(columns={'Date':'DATE','indore_HPI':'INDORE_HPI'},inplace=True)  ##we can use it for changing name of columns\n",
    "##we can also use df.colums=['DATE','INDORE_HPI'] to change names\n",
    "print(df.head())"
   ]
  },
  {
   "cell_type": "code",
   "execution_count": null,
   "metadata": {},
   "outputs": [],
   "source": []
  }
 ],
 "metadata": {
  "kernelspec": {
   "display_name": "Python 2",
   "language": "python",
   "name": "python2"
  },
  "language_info": {
   "codemirror_mode": {
    "name": "ipython",
    "version": 2
   },
   "file_extension": ".py",
   "mimetype": "text/x-python",
   "name": "python",
   "nbconvert_exporter": "python",
   "pygments_lexer": "ipython2",
   "version": "2.7.12"
  }
 },
 "nbformat": 4,
 "nbformat_minor": 2
}
