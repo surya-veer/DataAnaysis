{
 "cells": [
  {
   "cell_type": "markdown",
   "metadata": {},
   "source": [
    "# Joining and Merging datasets"
   ]
  },
  {
   "cell_type": "code",
   "execution_count": 32,
   "metadata": {},
   "outputs": [],
   "source": [
    "import pandas as pd "
   ]
  },
  {
   "cell_type": "code",
   "execution_count": 33,
   "metadata": {},
   "outputs": [],
   "source": [
    "##creating dump data_frames\n",
    "df1 = pd.DataFrame({'HPI':[80,85,88,85],\n",
    "                   'Int_rate':[2,3,2,2],\n",
    "                   'US_GDP_thousand':[50,55,65,50]},\n",
    "                  index = [2001,2002,2003,2004])\n",
    "df2 = pd.DataFrame({'HPI':[80,85,88,85],\n",
    "                   'Int_rate':[2,3,2,2],\n",
    "                   'US_GDP_thousand':[50,55,65,55]},\n",
    "                  index = [2005,2006,2007,2008])\n",
    "df3 = pd.DataFrame({'HPI':[80,85,88,85],\n",
    "                   'Unemployment':[7,10,2,5],\n",
    "                   'US_tier_HPI':[100,521,600,508]},\n",
    "                  index = [2001,2002,2003,2004])"
   ]
  },
  {
   "cell_type": "code",
   "execution_count": 34,
   "metadata": {},
   "outputs": [
    {
     "name": "stdout",
     "output_type": "stream",
     "text": [
      "   HPI  Int_rate_x  US_GDP_thousand_x  Int_rate_y  US_GDP_thousand_y\n",
      "0   80           2                 50           2                 50\n",
      "1   85           3                 55           3                 55\n",
      "2   85           3                 55           2                 55\n",
      "3   85           2                 50           3                 55\n",
      "4   85           2                 50           2                 55\n",
      "5   88           2                 65           2                 65\n"
     ]
    }
   ],
   "source": [
    "mrg  = pd.merge(df1,df2,on='HPI')  ##on='' -> merging on the basis of which attribute/column of datast. \n",
    "## We can take more then then on as a list on=['',''] \n",
    "print(mrg)"
   ]
  },
  {
   "cell_type": "markdown",
   "metadata": {},
   "source": [
    "### in above merging we can se that there is deplication in index HPI so this is not goog way to merge data frame"
   ]
  },
  {
   "cell_type": "code",
   "execution_count": 35,
   "metadata": {},
   "outputs": [
    {
     "name": "stdout",
     "output_type": "stream",
     "text": [
      "   HPI  Int_rate  US_GDP_thousand  US_tier_HPI  Unemployment\n",
      "0   80         2               50          100             7\n",
      "1   85         3               55          521            10\n",
      "2   85         3               55          508             5\n",
      "3   85         2               50          521            10\n",
      "4   85         2               50          508             5\n",
      "5   88         2               65          600             2\n"
     ]
    }
   ],
   "source": [
    "mrg  = pd.merge(df1,df3,on=['HPI'])\n",
    "print(mrg)"
   ]
  },
  {
   "cell_type": "markdown",
   "metadata": {},
   "source": [
    "### in this case data is lost for  some vales "
   ]
  },
  {
   "cell_type": "code",
   "execution_count": 36,
   "metadata": {},
   "outputs": [],
   "source": [
    "df1.set_index('HPI',inplace=True)\n",
    "df3.set_index('HPI',inplace=True)"
   ]
  },
  {
   "cell_type": "code",
   "execution_count": 37,
   "metadata": {},
   "outputs": [
    {
     "name": "stdout",
     "output_type": "stream",
     "text": [
      "     Int_rate  US_GDP_thousand  US_tier_HPI  Unemployment\n",
      "HPI                                                      \n",
      "80          2               50          100             7\n",
      "85          3               55          521            10\n",
      "85          3               55          508             5\n",
      "85          2               50          521            10\n",
      "85          2               50          508             5\n",
      "88          2               65          600             2\n"
     ]
    }
   ],
   "source": [
    "join = df1.join(df3)\n",
    "print(join)"
   ]
  },
  {
   "cell_type": "markdown",
   "metadata": {},
   "source": [
    "### this is also not ideal scenario here also data replication"
   ]
  },
  {
   "cell_type": "code",
   "execution_count": 38,
   "metadata": {},
   "outputs": [],
   "source": [
    "df1 = pd.DataFrame({'Year':[2001,2002,2003,2004],\n",
    "                   'Int_rate':[2,3,2,2],\n",
    "                   'US_GDP_thousand':[50,55,65,50]})\n",
    "\n",
    "df3 = pd.DataFrame({'Year':[2001,2002,2003,2005],\n",
    "                   'Unemployment':[7,10,2,5],\n",
    "                   'US_tier_HPI':[100,521,600,508]})"
   ]
  },
  {
   "cell_type": "code",
   "execution_count": 39,
   "metadata": {},
   "outputs": [
    {
     "name": "stdout",
     "output_type": "stream",
     "text": [
      "      Int_rate  US_GDP_thousand  US_tier_HPI  Unemployment\n",
      "Year                                                      \n",
      "2001         2               50          100             7\n",
      "2002         3               55          521            10\n",
      "2003         2               65          600             2\n"
     ]
    }
   ],
   "source": [
    "merged = pd.merge(df1,df3,on='Year')\n",
    "merged.set_index('Year',inplace=True)\n",
    "print(merged)"
   ]
  },
  {
   "cell_type": "markdown",
   "metadata": {},
   "source": [
    "### here you can see the their is no data row of year 2004 and 2005 becsue there are not common\n",
    "\n",
    "# how attribute of merge how='   '"
   ]
  },
  {
   "cell_type": "code",
   "execution_count": 40,
   "metadata": {},
   "outputs": [
    {
     "name": "stdout",
     "output_type": "stream",
     "text": [
      "      Int_rate  US_GDP_thousand  US_tier_HPI  Unemployment\n",
      "Year                                                      \n",
      "2001         2               50        100.0           7.0\n",
      "2002         3               55        521.0          10.0\n",
      "2003         2               65        600.0           2.0\n",
      "2004         2               50          NaN           NaN\n"
     ]
    }
   ],
   "source": [
    "## how='outer' is use to merge rows with respect to left datafame (in our case df1)\n",
    "merged = pd.merge(df1,df3,on='Year',how='left')\n",
    "merged.set_index('Year',inplace=True)\n",
    "print(merged)"
   ]
  },
  {
   "cell_type": "code",
   "execution_count": 41,
   "metadata": {},
   "outputs": [
    {
     "name": "stdout",
     "output_type": "stream",
     "text": [
      "      Int_rate  US_GDP_thousand  US_tier_HPI  Unemployment\n",
      "Year                                                      \n",
      "2001       2.0             50.0          100             7\n",
      "2002       3.0             55.0          521            10\n",
      "2003       2.0             65.0          600             2\n",
      "2005       NaN              NaN          508             5\n"
     ]
    }
   ],
   "source": [
    "## how='outer' is use to merge rows with respect to right datafame (in our case df3)\n",
    "merged = pd.merge(df1,df3,on='Year',how='right')\n",
    "merged.set_index('Year',inplace=True)\n",
    "print(merged)"
   ]
  },
  {
   "cell_type": "code",
   "execution_count": 42,
   "metadata": {},
   "outputs": [
    {
     "name": "stdout",
     "output_type": "stream",
     "text": [
      "      Int_rate  US_GDP_thousand  US_tier_HPI  Unemployment\n",
      "Year                                                      \n",
      "2001       2.0             50.0        100.0           7.0\n",
      "2002       3.0             55.0        521.0          10.0\n",
      "2003       2.0             65.0        600.0           2.0\n",
      "2004       2.0             50.0          NaN           NaN\n",
      "2005       NaN              NaN        508.0           5.0\n"
     ]
    }
   ],
   "source": [
    "## how='outer' is use to merge the rows which are from two dataframs like Union of set\n",
    "merged = pd.merge(df1,df3,on='Year',how='outer')\n",
    "merged.set_index('Year',inplace=True)\n",
    "print(merged)"
   ]
  },
  {
   "cell_type": "code",
   "execution_count": 43,
   "metadata": {},
   "outputs": [
    {
     "name": "stdout",
     "output_type": "stream",
     "text": [
      "      Int_rate  US_GDP_thousand  US_tier_HPI  Unemployment\n",
      "Year                                                      \n",
      "2001         2               50          100             7\n",
      "2002         3               55          521            10\n",
      "2003         2               65          600             2\n"
     ]
    }
   ],
   "source": [
    "## how='inner' is default in merge is merge the rows which are common\n",
    "merged = pd.merge(df1,df3,on='Year',how='inner')\n",
    "merged.set_index('Year',inplace=True)\n",
    "print(merged)\n"
   ]
  },
  {
   "cell_type": "code",
   "execution_count": null,
   "metadata": {},
   "outputs": [],
   "source": []
  }
 ],
 "metadata": {
  "kernelspec": {
   "display_name": "Python 2",
   "language": "python",
   "name": "python2"
  },
  "language_info": {
   "codemirror_mode": {
    "name": "ipython",
    "version": 2
   },
   "file_extension": ".py",
   "mimetype": "text/x-python",
   "name": "python",
   "nbconvert_exporter": "python",
   "pygments_lexer": "ipython2",
   "version": "2.7.12"
  }
 },
 "nbformat": 4,
 "nbformat_minor": 2
}
