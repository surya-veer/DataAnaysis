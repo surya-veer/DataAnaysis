{
 "cells": [
  {
   "cell_type": "markdown",
   "metadata": {},
   "source": [
    "# Building dataset using Quandl API for Housing price index "
   ]
  },
  {
   "cell_type": "code",
   "execution_count": 1,
   "metadata": {},
   "outputs": [],
   "source": [
    "import quandl\n",
    "import pandas as pd\n",
    "import numpy as np\n",
    "import lxml\n",
    "import html5lib"
   ]
  },
  {
   "cell_type": "code",
   "execution_count": 2,
   "metadata": {},
   "outputs": [],
   "source": [
    "api_key =  open('api_key_quandal.txt','r').readline().split()[0]"
   ]
  },
  {
   "cell_type": "code",
   "execution_count": 3,
   "metadata": {},
   "outputs": [
    {
     "name": "stdout",
     "output_type": "stream",
     "text": [
      "                Value\n",
      "Date                 \n",
      "1975-01-31  34.527918\n",
      "1975-02-28  35.026256\n",
      "1975-03-31  35.536666\n",
      "1975-04-30  36.074757\n",
      "1975-05-31  36.676178\n"
     ]
    }
   ],
   "source": [
    "df = quandl.get('FMAC/HPI_AK',authtoken = api_key)\n",
    "print(df.head())"
   ]
  },
  {
   "cell_type": "code",
   "execution_count": 6,
   "metadata": {},
   "outputs": [
    {
     "name": "stdout",
     "output_type": "stream",
     "text": [
      "              0           1            2                  3\n",
      "0  Abbreviation  State Name      Capital     Became a State\n",
      "1            AL     Alabama   Montgomery  December 14, 1819\n",
      "2            AK      Alaska       Juneau    January 3, 1959\n",
      "3            AZ     Arizona      Phoenix  February 14, 1912\n",
      "4            AR    Arkansas  Little Rock      June 15, 1836\n"
     ]
    }
   ],
   "source": [
    "data_states = pd.read_html(\"https://simple.wikipedia.org/wiki/List_of_U.S._states\")\n",
    "# print(data_states) this will have a bunch of dataframes but we can see 0th index is our usefull dataframe\n",
    "print(data_states[0].head())\n"
   ]
  },
  {
   "cell_type": "code",
   "execution_count": 8,
   "metadata": {},
   "outputs": [
    {
     "name": "stdout",
     "output_type": "stream",
     "text": [
      "0    Abbreviation\n",
      "1              AL\n",
      "2              AK\n",
      "3              AZ\n",
      "4              AR\n",
      "Name: 0, dtype: object\n"
     ]
    }
   ],
   "source": [
    "print(data_states[0][0].head())  ##only abbreviations"
   ]
  },
  {
   "cell_type": "code",
   "execution_count": 11,
   "metadata": {},
   "outputs": [],
   "source": [
    "for abbv in data_states[0][0][1:]:\n",
    "    api_name = 'FMAC/HPI_'+ str(abbv)"
   ]
  },
  {
   "cell_type": "markdown",
   "metadata": {},
   "source": [
    "# Concatenating and appending DataFrames"
   ]
  },
  {
   "cell_type": "code",
   "execution_count": null,
   "metadata": {},
   "outputs": [],
   "source": [
    "##creating dump data_frames\n",
    "df1 = pd.DataFrame({'HPI':[80,85,88,85],\n",
    "                   'Int_rate':[2,3,2,2],\n",
    "                   'US_GDP_thousand':[50,55,65,50]},\n",
    "                  index = [2001,2002,2003,2004])\n",
    "df1 = pd.DataFrame({'HPI':[80,85,88,85],\n",
    "                   'Int_rate':[2,3,2,2],\n",
    "                   'US_GDP_thousand':[50,55,65,50]},\n",
    "                  index = [2001,2002,2003,2004])\n",
    "df1 = pd.DataFrame({'HPI':[80,85,88,85],\n",
    "                   'Int_rate':[2,3,2,2],\n",
    "                   'US_GDP_thousand':[50,55,65,50]},\n",
    "                  index = [2001,2002,2003,2004])"
   ]
  }
 ],
 "metadata": {
  "kernelspec": {
   "display_name": "Python 2",
   "language": "python",
   "name": "python2"
  },
  "language_info": {
   "codemirror_mode": {
    "name": "ipython",
    "version": 2
   },
   "file_extension": ".py",
   "mimetype": "text/x-python",
   "name": "python",
   "nbconvert_exporter": "python",
   "pygments_lexer": "ipython2",
   "version": "2.7.12"
  }
 },
 "nbformat": 4,
 "nbformat_minor": 2
}
