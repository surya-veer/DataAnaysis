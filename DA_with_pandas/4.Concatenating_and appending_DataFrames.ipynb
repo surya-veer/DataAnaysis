{
 "cells": [
  {
   "cell_type": "markdown",
   "metadata": {},
   "source": [
    "# Concatenating and appending DataFrames"
   ]
  },
  {
   "cell_type": "code",
   "execution_count": 1,
   "metadata": {},
   "outputs": [],
   "source": [
    "import quandl\n",
    "import pandas as pd\n",
    "import numpy as np\n",
    "import lxml\n",
    "import html5lib"
   ]
  },
  {
   "cell_type": "code",
   "execution_count": 7,
   "metadata": {},
   "outputs": [],
   "source": [
    "##creating dump data_frames\n",
    "df1 = pd.DataFrame({'HPI':[80,85,88,85],\n",
    "                   'Int_rate':[2,3,2,2],\n",
    "                   'US_GDP_thousand':[50,55,65,50]},\n",
    "                  index = [2001,2002,2003,2004])\n",
    "df2 = pd.DataFrame({'HPI':[80,85,88,85],\n",
    "                   'Int_rate':[2,3,2,2],\n",
    "                   'US_GDP_thousand':[50,55,65,55]},\n",
    "                  index = [2005,2006,2007,2008])\n",
    "df3 = pd.DataFrame({'HPI':[80,85,88,85],\n",
    "                   'Int_rate':[2,3,2,2],\n",
    "                   'US_tier_HPI':[50,52,60,58]},\n",
    "                  index = [2001,2002,2003,2004])"
   ]
  },
  {
   "cell_type": "code",
   "execution_count": 10,
   "metadata": {},
   "outputs": [
    {
     "name": "stdout",
     "output_type": "stream",
     "text": [
      "      HPI  Int_rate  US_GDP_thousand  US_tier_HPI\n",
      "2001   80         2             50.0          NaN\n",
      "2002   85         3             55.0          NaN\n",
      "2003   88         2             65.0          NaN\n",
      "2004   85         2             50.0          NaN\n",
      "2005   80         2             50.0          NaN\n",
      "2006   85         3             55.0          NaN\n",
      "2007   88         2             65.0          NaN\n",
      "2008   85         2             55.0          NaN\n",
      "2001   80         2              NaN         50.0\n",
      "2002   85         3              NaN         52.0\n",
      "2003   88         2              NaN         60.0\n",
      "2004   85         2              NaN         58.0\n"
     ]
    }
   ],
   "source": [
    "concat = pd.concat([df1,df2,df3])\n",
    "print(concat)"
   ]
  },
  {
   "cell_type": "markdown",
   "metadata": {},
   "source": [
    "### the above result is not usefull because concat() directly append at the bottom of the table but don't want to do this because it have same YEAR and HPI and INT_rate so they can share there colums and append at the top of dataset "
   ]
  },
  {
   "cell_type": "code",
   "execution_count": 13,
   "metadata": {},
   "outputs": [
    {
     "name": "stdout",
     "output_type": "stream",
     "text": [
      "      HPI  Int_rate  US_GDP_thousand  US_tier_HPI\n",
      "2001   80         2             50.0          NaN\n",
      "2002   85         3             55.0          NaN\n",
      "2003   88         2             65.0          NaN\n",
      "2004   85         2             50.0          NaN\n",
      "2001   80         2              NaN         50.0\n",
      "2002   85         3              NaN         52.0\n",
      "2003   88         2              NaN         60.0\n",
      "2004   85         2              NaN         58.0\n"
     ]
    }
   ],
   "source": [
    "concat = df1.append(df3)\n",
    "print(concat)"
   ]
  },
  {
   "cell_type": "markdown",
   "metadata": {},
   "source": [
    "### here same withn append()"
   ]
  },
  {
   "cell_type": "code",
   "execution_count": null,
   "metadata": {},
   "outputs": [],
   "source": []
  }
 ],
 "metadata": {
  "kernelspec": {
   "display_name": "Python 2",
   "language": "python",
   "name": "python2"
  },
  "language_info": {
   "codemirror_mode": {
    "name": "ipython",
    "version": 2
   },
   "file_extension": ".py",
   "mimetype": "text/x-python",
   "name": "python",
   "nbconvert_exporter": "python",
   "pygments_lexer": "ipython2",
   "version": "2.7.12"
  }
 },
 "nbformat": 4,
 "nbformat_minor": 2
}
