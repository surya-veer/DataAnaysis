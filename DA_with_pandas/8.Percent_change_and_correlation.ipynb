{
 "cells": [
  {
   "cell_type": "markdown",
   "metadata": {},
   "source": [
    "# Percentage Change and Correlation tables  "
   ]
  },
  {
   "cell_type": "code",
   "execution_count": 89,
   "metadata": {},
   "outputs": [],
   "source": [
    "import quandl\n",
    "import pandas as pd\n",
    "import numpy as np\n",
    "import lxml\n",
    "import html5lib\n",
    "import matplotlib.pyplot as plt\n",
    "from matplotlib import style\n",
    "style.use('fivethirtyeight')"
   ]
  },
  {
   "cell_type": "code",
   "execution_count": 112,
   "metadata": {},
   "outputs": [
    {
     "name": "stdout",
     "output_type": "stream",
     "text": [
      "LaF2GKAwpnKqFGshs1W7\n"
     ]
    }
   ],
   "source": [
    "api_key =  open('api_key_quandal.txt','r').readline().split()[0]"
   ]
  },
  {
   "cell_type": "code",
   "execution_count": 113,
   "metadata": {},
   "outputs": [],
   "source": [
    "def get_states():\n",
    "    data_states = pd.read_html(\"https://simple.wikipedia.org/wiki/List_of_U.S._states\")\n",
    "    return data_states[0][0][1:]"
   ]
  },
  {
   "cell_type": "code",
   "execution_count": 114,
   "metadata": {},
   "outputs": [],
   "source": [
    "##real data fiddy_states_data.pickle\n",
    "def fiddy_states_to_pickle():\n",
    "    states  = get_states()\n",
    "    df_main = pd.DataFrame()\n",
    "    for abbv in states:\n",
    "        api_name = 'FMAC/HPI_'+ str(abbv)\n",
    "        df = quandl.get(api_name,authtoken = api_key)\n",
    "        #     df.columns = [str(abbv)]\n",
    "        df.rename(columns = {'Value':str(abbv)},inplace=True)\n",
    "        if df_main.empty:\n",
    "            df_main = df\n",
    "        else:\n",
    "            df_main = df_main.join(df)\n",
    "    print(df_main.head())\n",
    "    df_main.to_pickle('fiddy_states_data.pickle')\n",
    "    \n",
    "##for percentage data as pct_change_fiddy_state.pickle\n",
    "def pct_change_wrt_initial_states_to_pickle():\n",
    "    states  = get_states()\n",
    "    df_main = pd.DataFrame()\n",
    "    for abbv in states:\n",
    "        api_name = 'FMAC/HPI_'+ str(abbv)\n",
    "        df = quandl.get(api_name,authtoken = api_key)\n",
    "        df.rename(columns = {'Value':str(abbv)},inplace=True)\n",
    "        if df_main.empty:\n",
    "            df_main = df \n",
    "        else:\n",
    "            ##additional line for percentage change with respect to initial value\n",
    "            df[abbv] = (df[abbv] - df[abbv][0]) / df[abbv][0] * 100\n",
    "            df_main = df_main.join(df)\n",
    "    print(df_main.head())\n",
    "    df_main.to_pickle('pct_change_wrt_initial_fiddy_state.pickle')\n",
    "    \n",
    "#united state data is average of all of states so line of this data will be average of all the data\n",
    "def HPI_benchmark():\n",
    "    df = quandl.get('FMAC/HPI_USA',authtoken = api_key)\n",
    "    df.columns=['United State']\n",
    "    df['United State'] = (df['United State'] - df['United State'][0]) / df['United State'][0] * 100\n",
    "    return df\n",
    "    \n",
    "    "
   ]
  },
  {
   "cell_type": "code",
   "execution_count": 115,
   "metadata": {},
   "outputs": [],
   "source": [
    "#grabing initial data this is only for one time\n",
    "#fiddy_states_to_pickle()\n",
    "#pct_change_wrt_initial_states_to_pickle()"
   ]
  },
  {
   "cell_type": "code",
   "execution_count": 116,
   "metadata": {},
   "outputs": [],
   "source": [
    "#percentage change on each step\n",
    "# HPI_data = pd.read_pickle('fiddy_states_data.pickle')\n",
    "# HPI_data = HPI_data.pct_change()\n",
    "# HPI_data.plot()\n",
    "# plt.legend().remove()\n",
    "# plt.show()"
   ]
  },
  {
   "cell_type": "markdown",
   "metadata": {},
   "source": [
    "### ploting percentage change data with respect to initaial data ie. first data set "
   ]
  },
  {
   "cell_type": "code",
   "execution_count": 117,
   "metadata": {},
   "outputs": [],
   "source": [
    "HPI_data = pd.read_pickle('pct_change_wrt_initial_fiddy_state.pickle')\n",
    "# HPI_data.plot()\n",
    "# plt.legend().remove()\n",
    "# plt.show()"
   ]
  },
  {
   "cell_type": "markdown",
   "metadata": {},
   "source": [
    "### ploting data with benchmark(USA)"
   ]
  },
  {
   "cell_type": "code",
   "execution_count": 118,
   "metadata": {},
   "outputs": [],
   "source": [
    "# fig = plt.figure()\n",
    "# ax1 = plt.subplot2grid((1,1),(0,0))\n",
    "benchmark = HPI_benchmark()\n",
    "# HPI_data.plot(ax = ax1)\n",
    "# benchmark.plot(ax=ax1, color = 'k', linewidth = '10')\n",
    "# plt.legend().remove()\n",
    "# plt.show()"
   ]
  },
  {
   "cell_type": "markdown",
   "metadata": {},
   "source": [
    "# Correlation"
   ]
  },
  {
   "cell_type": "markdown",
   "metadata": {},
   "source": [
    "This is just a mutual relationship or connection between two or more things ie. if there are N data dates then there will NxN correlations.<br>\n",
    "Like in our dataset(HPI_index) there will correlation between each city to other city \n",
    "### correlation coefficient \n",
    "This varies from -1 to 1 <br>\n",
    "<b>lembda( λ )= +ve</b>  one variable increase then other will also increase <br>\n",
    "<b>lembda( λ ) = 0 </b> Knowing that two variables are independent will tell you that their correlation coefficient is zero. But knowing the correlation coefficient to be zero does NOT mean the two variables are independent, or otherwise unrelated. It only means there is no linear relationship <br>\n",
    "<b>lembda( λ )</b> = -ve  ->one variable increase then other will decrease vice versa \n",
    "\n",
    "\n",
    "\n",
    "#### syntax \n",
    "for correlation -> dataframe.corr()<br>\n",
    "for getting every details like mean, SD, min, max etc of each data ->> dataframe.describe()"
   ]
  },
  {
   "cell_type": "code",
   "execution_count": 86,
   "metadata": {},
   "outputs": [
    {
     "name": "stdout",
     "output_type": "stream",
     "text": [
      "          AL        AK        AZ        AR        CA        CO        CT  \\\n",
      "AL  1.000000  0.949600  0.941441  0.995209  0.944674  0.957867  0.951608   \n",
      "AK  0.949600  1.000000  0.917584  0.970294  0.928500  0.958452  0.883141   \n",
      "AZ  0.941441  0.917584  1.000000  0.940601  0.978504  0.923813  0.913701   \n",
      "\n",
      "          DE        FL        GA    ...           SD        TN        TX  \\\n",
      "AL  0.983137  0.932612  0.979055    ...     0.975476  0.991936  0.934171   \n",
      "AK  0.939002  0.908876  0.908380    ...     0.976243  0.961314  0.975062   \n",
      "AZ  0.948667  0.994724  0.953353    ...     0.915278  0.938301  0.903129   \n",
      "\n",
      "          UT        VT        VA        WA        WV        WI        WY  \n",
      "AL  0.976743  0.979972  0.976404  0.979951  0.983228  0.991681  0.950355  \n",
      "AK  0.965483  0.958344  0.964597  0.960020  0.974597  0.934630  0.988180  \n",
      "AZ  0.941681  0.928817  0.960953  0.959507  0.925828  0.939049  0.917536  \n",
      "\n",
      "[3 rows x 50 columns]\n",
      "              AL         AK         AZ         AR         CA         CO  \\\n",
      "count  50.000000  50.000000  50.000000  50.000000  50.000000  50.000000   \n",
      "mean    0.969845   0.942585   0.937087   0.971922   0.949042   0.951452   \n",
      "std     0.025466   0.040180   0.025770   0.025437   0.022641   0.030284   \n",
      "min     0.881332   0.785736   0.860392   0.870650   0.876620   0.847378   \n",
      "25%     0.956978   0.931489   0.923835   0.967419   0.936985   0.935266   \n",
      "50%     0.977239   0.952145   0.939052   0.978546   0.947678   0.957982   \n",
      "75%     0.985701   0.964436   0.948415   0.989498   0.964576   0.973100   \n",
      "max     1.000000   1.000000   1.000000   1.000000   1.000000   1.000000   \n",
      "\n",
      "              CT         DE         FL         GA    ...             SD  \\\n",
      "count  50.000000  50.000000  50.000000  50.000000    ...      50.000000   \n",
      "mean    0.927643   0.962311   0.933539   0.955844    ...       0.961081   \n",
      "std     0.040598   0.028586   0.028985   0.025213    ...       0.034307   \n",
      "min     0.816186   0.871262   0.849449   0.864569    ...       0.824130   \n",
      "25%     0.900957   0.950959   0.917134   0.946831    ...       0.950567   \n",
      "50%     0.932697   0.968533   0.932336   0.958788    ...       0.972241   \n",
      "75%     0.958147   0.980440   0.950619   0.972748    ...       0.982490   \n",
      "max     1.000000   1.000000   1.000000   1.000000    ...       1.000000   \n",
      "\n",
      "              TN         TX         UT         VT         VA         WA  \\\n",
      "count  50.000000  50.000000  50.000000  50.000000  50.000000  50.000000   \n",
      "mean    0.970770   0.932715   0.957832   0.963305   0.967082   0.966906   \n",
      "std     0.025386   0.040500   0.031274   0.029685   0.025393   0.023565   \n",
      "min     0.867048   0.803584   0.859219   0.848529   0.854787   0.875904   \n",
      "25%     0.960702   0.915896   0.943989   0.957828   0.961572   0.959556   \n",
      "50%     0.976787   0.937833   0.964818   0.971730   0.973781   0.972810   \n",
      "75%     0.988181   0.960506   0.981719   0.980034   0.980237   0.980383   \n",
      "max     1.000000   1.000000   1.000000   1.000000   1.000000   1.000000   \n",
      "\n",
      "              WV         WI         WY  \n",
      "count  50.000000  50.000000  50.000000  \n",
      "mean    0.964810   0.965258   0.942548  \n",
      "std     0.031172   0.025319   0.041965  \n",
      "min     0.841929   0.886364   0.783301  \n",
      "25%     0.956100   0.956621   0.927137  \n",
      "50%     0.975587   0.969701   0.954057  \n",
      "75%     0.983638   0.984923   0.966324  \n",
      "max     1.000000   1.000000   1.000000  \n",
      "\n",
      "[8 rows x 50 columns]\n"
     ]
    }
   ],
   "source": [
    "HPI_states_correlation = HPI_data.corr()\n",
    "print(HPI_states_correlation.head(3))\n",
    "print(HPI_states_correlation.describe())"
   ]
  },
  {
   "cell_type": "code",
   "execution_count": null,
   "metadata": {},
   "outputs": [],
   "source": []
  }
 ],
 "metadata": {
  "kernelspec": {
   "display_name": "Python 2",
   "language": "python",
   "name": "python2"
  },
  "language_info": {
   "codemirror_mode": {
    "name": "ipython",
    "version": 2
   },
   "file_extension": ".py",
   "mimetype": "text/x-python",
   "name": "python",
   "nbconvert_exporter": "python",
   "pygments_lexer": "ipython2",
   "version": "2.7.12"
  }
 },
 "nbformat": 4,
 "nbformat_minor": 2
}
