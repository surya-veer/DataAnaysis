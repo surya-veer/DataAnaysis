{
 "cells": [
  {
   "cell_type": "code",
   "execution_count": 62,
   "metadata": {},
   "outputs": [],
   "source": [
    "import pandas as pd\n",
    "import numpy as np"
   ]
  },
  {
   "cell_type": "code",
   "execution_count": 63,
   "metadata": {},
   "outputs": [],
   "source": [
    "data_dic = {'Day':[1 , 2 , 3 , 4 , 5 , 6],'Visitors':[50, 10 , 10, 80 , 90, 45],'Bounce_rate':[50,80,40,78,15,50]}"
   ]
  },
  {
   "cell_type": "code",
   "execution_count": 64,
   "metadata": {},
   "outputs": [
    {
     "name": "stdout",
     "output_type": "stream",
     "text": [
      "   Bounce_rate  Day  Visitors\n",
      "0           50    1        50\n",
      "1           80    2        10\n",
      "2           40    3        10\n",
      "3           78    4        80\n",
      "4           15    5        90\n",
      "5           50    6        45\n"
     ]
    }
   ],
   "source": [
    "df = pd.DataFrame(data_dic)  ##df have it's default index from 0 to data_length-1\n",
    "print(df)"
   ]
  },
  {
   "cell_type": "code",
   "execution_count": 65,
   "metadata": {},
   "outputs": [
    {
     "name": "stdout",
     "output_type": "stream",
     "text": [
      "   Bounce_rate  Day  Visitors\n",
      "0           50    1        50\n",
      "1           80    2        10\n",
      "2           40    3        10\n",
      "3           78    4        80\n",
      "4           15    5        90\n",
      "   Bounce_rate  Day  Visitors\n",
      "0           50    1        50\n",
      "1           80    2        10\n",
      "2           40    3        10\n"
     ]
    }
   ],
   "source": [
    "print(df.head())  #head is use to print initial 5 data rows if we pass vale like head(3) will print first 3 rows\n",
    "print(df.head(3))"
   ]
  },
  {
   "cell_type": "code",
   "execution_count": 66,
   "metadata": {},
   "outputs": [
    {
     "name": "stdout",
     "output_type": "stream",
     "text": [
      "   Bounce_rate  Day  Visitors\n",
      "1           80    2        10\n",
      "2           40    3        10\n",
      "3           78    4        80\n",
      "4           15    5        90\n",
      "5           50    6        45\n",
      "   Bounce_rate  Day  Visitors\n",
      "3           78    4        80\n",
      "4           15    5        90\n",
      "5           50    6        45\n"
     ]
    }
   ],
   "source": [
    "print(df.tail())  # tail is use to print last 5 rows from data set\n",
    "print(df.tail(3))"
   ]
  },
  {
   "cell_type": "code",
   "execution_count": 67,
   "metadata": {},
   "outputs": [
    {
     "name": "stdout",
     "output_type": "stream",
     "text": [
      "     Bounce_rate  Visitors\n",
      "Day                       \n",
      "1             50        50\n",
      "2             80        10\n",
      "3             40        10\n",
      "4             78        80\n",
      "5             15        90\n",
      "6             50        45\n"
     ]
    }
   ],
   "source": [
    "df2 = df.set_index('Day') ##set_index() is use to set index according to our choice\n",
    "#df.set_index() returns new DataFrame\n",
    "##now Day is our index \n",
    "##generally date and time are data index\n",
    "print(df2)"
   ]
  },
  {
   "cell_type": "code",
   "execution_count": 68,
   "metadata": {},
   "outputs": [
    {
     "name": "stdout",
     "output_type": "stream",
     "text": [
      "   Bounce_rate  Day  Visitors\n",
      "0           50    1        50\n",
      "1           80    2        10\n",
      "2           40    3        10\n",
      "3           78    4        80\n",
      "4           15    5        90\n"
     ]
    }
   ],
   "source": [
    "print(df.head())  #if we want to modify dataframe itself then we can use df = df.set_index('Day')\n",
    "##but best way to do this is df.set_index('Day',inplace = True)\n",
    "##df.set_index('Visitors', inplace=True)\n",
    "##print(df.head())"
   ]
  },
  {
   "cell_type": "code",
   "execution_count": 69,
   "metadata": {},
   "outputs": [
    {
     "name": "stdout",
     "output_type": "stream",
     "text": [
      "0    50\n",
      "1    10\n",
      "2    10\n",
      "3    80\n",
      "4    90\n",
      "5    45\n",
      "Name: Visitors, dtype: int64\n",
      "0    50\n",
      "1    10\n",
      "2    10\n",
      "3    80\n",
      "4    90\n",
      "5    45\n",
      "Name: Visitors, dtype: int64\n"
     ]
    }
   ],
   "source": [
    "##accessing a specific index of df we can access it as dictionary (referencing a single column)\n",
    "print(df['Visitors'])\n",
    "## we can also use Visitors as attribute both are same\n",
    "print(df.Visitors)"
   ]
  },
  {
   "cell_type": "code",
   "execution_count": 70,
   "metadata": {},
   "outputs": [
    {
     "name": "stdout",
     "output_type": "stream",
     "text": [
      "   Day  Visitors\n",
      "0    1        50\n",
      "1    2        10\n",
      "2    3        10\n",
      "3    4        80\n",
      "4    5        90\n",
      "5    6        45\n"
     ]
    }
   ],
   "source": [
    "## referencing two or more colmuns column \n",
    "print(df[['Day','Visitors']])  ##will return 2D vector "
   ]
  },
  {
   "cell_type": "code",
   "execution_count": 71,
   "metadata": {},
   "outputs": [
    {
     "name": "stdout",
     "output_type": "stream",
     "text": [
      "[50, 10, 10, 80, 90, 45]\n"
     ]
    }
   ],
   "source": [
    "## converting df to list we can use tolist() this is only for 1D array \n",
    "print(df.Visitors.tolist())"
   ]
  },
  {
   "cell_type": "code",
   "execution_count": 80,
   "metadata": {},
   "outputs": [
    {
     "name": "stdout",
     "output_type": "stream",
     "text": [
      "[[ 1 50]\n",
      " [ 2 10]\n",
      " [ 3 10]\n",
      " [ 4 80]\n",
      " [ 5 90]\n",
      " [ 6 45]]\n"
     ]
    }
   ],
   "source": [
    "##for multidimininal array we can use numpy to conver it from data to multidimensional\n",
    "print(np.array(df[['Day','Visitors']])) ##this will return 2D array "
   ]
  },
  {
   "cell_type": "code",
   "execution_count": 82,
   "metadata": {},
   "outputs": [
    {
     "name": "stdout",
     "output_type": "stream",
     "text": [
      "   0   1\n",
      "0  1  50\n",
      "1  2  10\n",
      "2  3  10\n",
      "3  4  80\n",
      "4  5  90\n",
      "5  6  45\n"
     ]
    }
   ],
   "source": [
    "##we can also convert numpy array to dataframe \n",
    "df3 = pd.DataFrame(np.array(df[['Day','Visitors']]))\n",
    "print(df3)"
   ]
  },
  {
   "cell_type": "code",
   "execution_count": null,
   "metadata": {},
   "outputs": [],
   "source": []
  }
 ],
 "metadata": {
  "kernelspec": {
   "display_name": "Python 2",
   "language": "python",
   "name": "python2"
  },
  "language_info": {
   "codemirror_mode": {
    "name": "ipython",
    "version": 2
   },
   "file_extension": ".py",
   "mimetype": "text/x-python",
   "name": "python",
   "nbconvert_exporter": "python",
   "pygments_lexer": "ipython2",
   "version": "2.7.12"
  }
 },
 "nbformat": 4,
 "nbformat_minor": 2
}
