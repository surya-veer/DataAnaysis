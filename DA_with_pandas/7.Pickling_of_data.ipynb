{
 "cells": [
  {
   "cell_type": "code",
   "execution_count": 1,
   "metadata": {},
   "outputs": [],
   "source": [
    "import quandl\n",
    "import pandas as pd\n",
    "import numpy as np\n",
    "import lxml\n",
    "import html5lib\n",
    "import pickle"
   ]
  },
  {
   "cell_type": "code",
   "execution_count": 2,
   "metadata": {},
   "outputs": [],
   "source": [
    "api_key =  open('api_key_quandal.txt','r').readline().split()[0]"
   ]
  },
  {
   "cell_type": "code",
   "execution_count": 3,
   "metadata": {},
   "outputs": [],
   "source": [
    "def get_states():\n",
    "    data_states = pd.read_html(\"https://simple.wikipedia.org/wiki/List_of_U.S._states\")\n",
    "    return data_states[0][0][1:]\n",
    "    "
   ]
  },
  {
   "cell_type": "code",
   "execution_count": 4,
   "metadata": {},
   "outputs": [],
   "source": [
    "def fiddy_states_to_pickle():\n",
    "    states  = get_states()\n",
    "    df_main = pd.DataFrame()\n",
    "    for abbv in states:\n",
    "        api_name = 'FMAC/HPI_'+ str(abbv)\n",
    "        df = quandl.get(api_name,authtoken = api_key)\n",
    "        #     df.columns = [str(abbv)]\n",
    "        df.rename(columns = {'Value':str(abbv)},inplace=True)\n",
    "        if df_main.empty:\n",
    "            df_main = df\n",
    "        else:\n",
    "            df_main = df_main.join(df)\n",
    "    print(df_main.head())\n",
    "    df_main.to_pickle('fiddy_states_data.pickle')\n",
    "    \n",
    "    "
   ]
  },
  {
   "cell_type": "code",
   "execution_count": 5,
   "metadata": {},
   "outputs": [],
   "source": [
    "#fiddy_states_to_pickle()"
   ]
  },
  {
   "cell_type": "code",
   "execution_count": 6,
   "metadata": {},
   "outputs": [
    {
     "name": "stdout",
     "output_type": "stream",
     "text": [
      "                   AL         AK         AZ         AR         CA         CO  \\\n",
      "Date                                                                           \n",
      "1975-01-31  35.303417  34.527918  28.940032  36.838815  15.644547  19.630026   \n",
      "1975-02-28  35.502507  35.026256  29.409528  37.223497  15.693093  19.821180   \n",
      "1975-03-31  35.734654  35.536666  29.861852  37.561809  15.887119  20.013280   \n",
      "1975-04-30  36.015829  36.074757  30.227061  37.836285  16.203236  20.207580   \n",
      "1975-05-31  36.267298  36.676178  30.433976  38.086996  16.459320  20.382426   \n",
      "\n",
      "                   CT         DE         FL         GA    ...             SD  \\\n",
      "Date                                                      ...                  \n",
      "1975-01-31  24.448197  27.122817  31.178268  30.721998    ...      37.928775   \n",
      "1975-02-28  24.978337  27.108578  32.306122  30.475086    ...      37.463460   \n",
      "1975-03-31  25.376128  27.132215  34.048244  30.372700    ...      36.994328   \n",
      "1975-04-30  25.589234  27.243265  36.262987  30.430184    ...      36.533508   \n",
      "1975-05-31  25.635869  27.469625  36.488976  30.522158    ...      36.119922   \n",
      "\n",
      "                   TN         TX         UT         VT         VA         WA  \\\n",
      "Date                                                                           \n",
      "1975-01-31  32.256816  32.582514  24.537282  26.562005  27.945021  17.331629   \n",
      "1975-02-28  32.272559  32.956762  24.915536  26.880710  28.213562  17.437792   \n",
      "1975-03-31  32.335014  33.592795  25.252674  27.189255  28.419414  17.570050   \n",
      "1975-04-30  32.448240  34.460884  25.517926  27.471153  28.586343  17.712653   \n",
      "1975-05-31  32.589892  34.658289  25.694623  27.719357  28.743314  17.836880   \n",
      "\n",
      "                   WV         WI         WY  \n",
      "Date                                         \n",
      "1975-01-31  40.881718  28.364836  31.425109  \n",
      "1975-02-28  41.956890  28.719369  31.929642  \n",
      "1975-03-31  43.075651  29.044479  32.459696  \n",
      "1975-04-30  44.224846  29.310520  32.998744  \n",
      "1975-05-31  45.371374  29.518618  33.505875  \n",
      "\n",
      "[5 rows x 50 columns]\n"
     ]
    }
   ],
   "source": [
    "HPI_data = pd.read_pickle('fiddy_states_data.pickle')\n",
    "print(HPI_data.head())"
   ]
  },
  {
   "cell_type": "code",
   "execution_count": null,
   "metadata": {},
   "outputs": [],
   "source": []
  }
 ],
 "metadata": {
  "kernelspec": {
   "display_name": "Python 2",
   "language": "python",
   "name": "python2"
  },
  "language_info": {
   "codemirror_mode": {
    "name": "ipython",
    "version": 2
   },
   "file_extension": ".py",
   "mimetype": "text/x-python",
   "name": "python",
   "nbconvert_exporter": "python",
   "pygments_lexer": "ipython2",
   "version": "2.7.12"
  }
 },
 "nbformat": 4,
 "nbformat_minor": 2
}
