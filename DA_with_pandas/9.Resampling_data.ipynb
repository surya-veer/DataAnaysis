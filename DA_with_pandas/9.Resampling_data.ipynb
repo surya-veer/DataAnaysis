{
 "cells": [
  {
   "cell_type": "markdown",
   "metadata": {},
   "source": [
    "# Resampling of data"
   ]
  },
  {
   "cell_type": "markdown",
   "metadata": {},
   "source": [
    "<b>Why resampling</b>:Sometimes data is given for each second like stock market but we are interested to analyze weekly data so need to resample the data from seconds to week. This will also help to decrease dataset(when we decreasing samples)"
   ]
  },
  {
   "cell_type": "markdown",
   "metadata": {},
   "source": [
    "<pre class=\"prettyprint prettyprinted\" style=\"\"><span class=\"typ\">Resample</span><span class=\"pln\"> rule</span><span class=\"pun\">:\n",
    "</span><span class=\"pln\">\n",
    "xL </span><span class=\"kwd\">for</span><span class=\"pln\"> milliseconds\n",
    "xMin </span><span class=\"kwd\">for</span><span class=\"pln\"> minutes\n",
    "xD </span><span class=\"kwd\">for</span><span class=\"pln\"> </span><span class=\"typ\">Days</span><span class=\"pln\">\n",
    "\n",
    "</span><span class=\"typ\">Alias</span><span class=\"pln\">\t</span><span class=\"typ\">Description</span><span class=\"pln\">\n",
    "B\tbusiness day frequency\n",
    "C\tcustom business day frequency </span><span class=\"pun\">(</span><span class=\"pln\">experimental</span><span class=\"pun\">)</span><span class=\"pln\">\n",
    "D\tcalendar day frequency\n",
    "W\tweekly frequency\n",
    "M\tmonth </span><span class=\"kwd\">end</span><span class=\"pln\"> frequency\n",
    "BM\tbusiness month </span><span class=\"kwd\">end</span><span class=\"pln\"> frequency\n",
    "CBM\tcustom business month </span><span class=\"kwd\">end</span><span class=\"pln\"> frequency\n",
    "MS\tmonth start frequency\n",
    "BMS\tbusiness month start frequency\n",
    "CBMS\tcustom business month start frequency\n",
    "Q\tquarter </span><span class=\"kwd\">end</span><span class=\"pln\"> frequency\n",
    "BQ\tbusiness quarter endfrequency\n",
    "QS\tquarter start frequency\n",
    "BQS\tbusiness quarter start frequency\n",
    "A\tyear </span><span class=\"kwd\">end</span><span class=\"pln\"> frequency\n",
    "BA\tbusiness year </span><span class=\"kwd\">end</span><span class=\"pln\"> frequency\n",
    "AS\tyear start frequency\n",
    "BAS\tbusiness year start frequency\n",
    "BH\tbusiness hour frequency\n",
    "H\thourly frequency\n",
    "T\tminutely frequency\n",
    "S\tsecondly frequency\n",
    "L\tmilliseonds\n",
    "U\tmicroseconds\n",
    "N\tnanoseconds\n",
    "\n",
    "</span><span class=\"typ\">How</span><span class=\"pun\">:</span><span class=\"pln\">\n",
    "mean</span><span class=\"pun\">,</span><span class=\"pln\"> sum</span><span class=\"pun\">,</span><span class=\"pln\"> ohlc</span></pre>"
   ]
  },
  {
   "cell_type": "code",
   "execution_count": null,
   "metadata": {},
   "outputs": [],
   "source": []
  },
  {
   "cell_type": "code",
   "execution_count": null,
   "metadata": {},
   "outputs": [],
   "source": []
  }
 ],
 "metadata": {
  "kernelspec": {
   "display_name": "Python 2",
   "language": "python",
   "name": "python2"
  },
  "language_info": {
   "codemirror_mode": {
    "name": "ipython",
    "version": 2
   },
   "file_extension": ".py",
   "mimetype": "text/x-python",
   "name": "python",
   "nbconvert_exporter": "python",
   "pygments_lexer": "ipython2",
   "version": "2.7.12"
  }
 },
 "nbformat": 4,
 "nbformat_minor": 2
}
