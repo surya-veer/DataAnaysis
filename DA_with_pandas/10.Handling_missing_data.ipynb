{
 "cells": [
  {
   "cell_type": "markdown",
   "metadata": {},
   "source": [
    "# Hendling Missing Data"
   ]
  },
  {
   "cell_type": "markdown",
   "metadata": {},
   "source": [
    "Sometimes we don't have some data points in our data sample but we need to handle this situation otherwise we can't analyze data properly.\n",
    "<br>\n",
    "There are some methods to handle these missing values:<br><br>\n",
    "<b>1.Deleting: </b>Delete all the data corresponding to this data index in table<br>\n",
    "<b>2.Ignoring: </b>Ignore these value but use other columns values if given<br>\n",
    "<b>3.Filling: </b>Taking previous or next value to fill it<br>\n",
    "<b>4.Replace: </b>Repalce with some static value<br>"
   ]
  },
  {
   "cell_type": "markdown",
   "metadata": {},
   "source": [
    "Example data set\n",
    "<pre class=\"prettyprint prettyprinted\" style=\"\"><span class=\"pln\">                    TX       TX1yr\n",
    "</span><span class=\"typ\">Date</span><span class=\"pln\">                              \n",
    "</span><span class=\"lit\">1975</span><span class=\"pun\">-</span><span class=\"lit\">01</span><span class=\"pun\">-</span><span class=\"lit\">31</span><span class=\"pln\">    </span><span class=\"lit\">0.000000</span><span class=\"pln\">         </span><span class=\"kwd\">0.000000</span><span class=\"pln\">\n",
    "</span><span class=\"lit\">1975</span><span class=\"pun\">-</span><span class=\"lit\">02</span><span class=\"pun\">-</span><span class=\"lit\">28</span><span class=\"pln\">    </span><span class=\"lit\">1.291954</span><span class=\"pln\">         </span><span class=\"kwd\">1.284485</span><span class=\"pln\">\n",
    "</span><span class=\"lit\">1975</span><span class=\"pun\">-</span><span class=\"lit\">03</span><span class=\"pun\">-</span><span class=\"lit\">31</span><span class=\"pln\">    </span><span class=\"lit\">3.348154</span><span class=\"pln\">         </span><span class=\"kwd\">NaN</span><span class=\"pln\">\n",
    "</span><span class=\"lit\">1975</span><span class=\"pun\">-</span><span class=\"lit\">04</span><span class=\"pun\">-</span><span class=\"lit\">30</span><span class=\"pln\">    </span><span class=\"lit\">6.097700</span><span class=\"pln\">         </span><span class=\"kwd\">NaN</span><span class=\"pln\">\n",
    "</span><span class=\"lit\">1975</span><span class=\"pun\">-</span><span class=\"lit\">05</span><span class=\"pun\">-</span><span class=\"lit\">31</span><span class=\"pln\">    </span><span class=\"lit\">6.887769</span><span class=\"pln\">         </span><span class=\"kwd\">NaN</span><span class=\"pln\">\n",
    "</span><span class=\"lit\">1975</span><span class=\"pun\">-</span><span class=\"lit\">06</span><span class=\"pun\">-</span><span class=\"lit\">30</span><span class=\"pln\">    </span><span class=\"lit\">5.566434</span><span class=\"pln\">         </span><span class=\"kwd\">5.578521</span><span class=\"pln\">\n",
    "</span><span class=\"lit\">1975</span><span class=\"pun\">-</span><span class=\"lit\">07</span><span class=\"pun\">-</span><span class=\"lit\">31</span><span class=\"pln\">    </span><span class=\"lit\">4.710613</span><span class=\"pln\">         </span><span class=\"kwd\">4.8542323</span><span class=\"pln\">\n",
    "</span><span class=\"lit\">1975</span><span class=\"pun\">-</span><span class=\"lit\">08</span><span class=\"pun\">-</span><span class=\"lit\">31</span><span class=\"pln\">    </span><span class=\"lit\">4.612650</span><span class=\"pln\">         </span><span class=\"kwd\">NaN</span><span class=\"pln\">"
   ]
  },
  {
   "cell_type": "code",
   "execution_count": null,
   "metadata": {},
   "outputs": [],
   "source": []
  }
 ],
 "metadata": {
  "kernelspec": {
   "display_name": "Python 2",
   "language": "python",
   "name": "python2"
  },
  "language_info": {
   "codemirror_mode": {
    "name": "ipython",
    "version": 2
   },
   "file_extension": ".py",
   "mimetype": "text/x-python",
   "name": "python",
   "nbconvert_exporter": "python",
   "pygments_lexer": "ipython2",
   "version": "2.7.12"
  }
 },
 "nbformat": 4,
 "nbformat_minor": 2
}
